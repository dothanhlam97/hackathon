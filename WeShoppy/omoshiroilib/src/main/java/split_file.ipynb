{
 "cells": [
  {
   "cell_type": "code",
   "execution_count": 103,
   "metadata": {},
   "outputs": [],
   "source": [
    "with open('fres_1491295039279.idx', 'r') as content_file:\n",
    "    content = content_file.read()[:-1]\n",
    "arr = content.split(';')\n",
    "\n",
    "name = []\n",
    "position = []\n",
    "for x in arr:\n",
    "    obj = x.split(':')\n",
    "    name.append(obj[0])\n",
    "    position.append([int(obj[1]), int(obj[1]) + int(obj[2])])\n",
    "\n",
    "byte_header = min(position)\n",
    "byte_header = byte_header[0]\n",
    "f = open(\"fres_1491295039279.dat\", \"rb\");\n",
    "binary = []\n",
    "try:\n",
    "    byte = f.read(1)\n",
    "    while byte != \"\":\n",
    "        # Do stuff with byte.\n",
    "        byte = f.read(1)\n",
    "        binary.append(byte);\n",
    "finally:\n",
    "    f.close()\n",
    "n = len(name)\n",
    "for i in range(n):\n",
    "    h = open(name[i], \"wb\")\n",
    "#     print(position[i])\n",
    "    for j in range(15, byte_header) :\n",
    "        h.write(binary[j])\n",
    "    for j in range(position[i][0], min(len(binary),position[i][1])):\n",
    "        h.write(binary[j])\n",
    "    h.close()\n"
   ]
  },
  {
   "cell_type": "code",
   "execution_count": null,
   "metadata": {},
   "outputs": [],
   "source": []
  },
  {
   "cell_type": "code",
   "execution_count": null,
   "metadata": {},
   "outputs": [],
   "source": []
  }
 ],
 "metadata": {
  "kernelspec": {
   "display_name": "Python 2",
   "language": "python",
   "name": "python2"
  },
  "language_info": {
   "codemirror_mode": {
    "name": "ipython",
    "version": 2
   },
   "file_extension": ".py",
   "mimetype": "text/x-python",
   "name": "python",
   "nbconvert_exporter": "python",
   "pygments_lexer": "ipython2",
   "version": "2.7.13"
  }
 },
 "nbformat": 4,
 "nbformat_minor": 2
}
