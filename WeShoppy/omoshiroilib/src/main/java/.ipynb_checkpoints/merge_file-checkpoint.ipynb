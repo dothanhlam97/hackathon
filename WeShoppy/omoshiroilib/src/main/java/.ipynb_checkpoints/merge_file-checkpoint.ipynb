{
 "cells": [
  {
   "cell_type": "code",
   "execution_count": 41,
   "metadata": {},
   "outputs": [
    {
     "ename": "IndexError",
     "evalue": "list index out of range",
     "output_type": "error",
     "traceback": [
      "\u001b[0;31m---------------------------------------------------------------------------\u001b[0m",
      "\u001b[0;31mIndexError\u001b[0m                                Traceback (most recent call last)",
      "\u001b[0;32m<ipython-input-41-ca43408b2b4e>\u001b[0m in \u001b[0;36m<module>\u001b[0;34m()\u001b[0m\n\u001b[1;32m      8\u001b[0m     \u001b[0mobj\u001b[0m \u001b[0;34m=\u001b[0m \u001b[0mx\u001b[0m\u001b[0;34m.\u001b[0m\u001b[0msplit\u001b[0m\u001b[0;34m(\u001b[0m\u001b[0;34m':'\u001b[0m\u001b[0;34m)\u001b[0m\u001b[0;34m\u001b[0m\u001b[0m\n\u001b[1;32m      9\u001b[0m     \u001b[0mname\u001b[0m\u001b[0;34m.\u001b[0m\u001b[0mappend\u001b[0m\u001b[0;34m(\u001b[0m\u001b[0mobj\u001b[0m\u001b[0;34m[\u001b[0m\u001b[0;36m0\u001b[0m\u001b[0;34m]\u001b[0m\u001b[0;34m)\u001b[0m\u001b[0;34m\u001b[0m\u001b[0m\n\u001b[0;32m---> 10\u001b[0;31m     \u001b[0mposition\u001b[0m\u001b[0;34m.\u001b[0m\u001b[0mappend\u001b[0m\u001b[0;34m(\u001b[0m\u001b[0;34m[\u001b[0m\u001b[0mint\u001b[0m\u001b[0;34m(\u001b[0m\u001b[0mobj\u001b[0m\u001b[0;34m[\u001b[0m\u001b[0;36m1\u001b[0m\u001b[0;34m]\u001b[0m\u001b[0;34m)\u001b[0m\u001b[0;34m,\u001b[0m \u001b[0mint\u001b[0m\u001b[0;34m(\u001b[0m\u001b[0mobj\u001b[0m\u001b[0;34m[\u001b[0m\u001b[0;36m1\u001b[0m\u001b[0;34m]\u001b[0m\u001b[0;34m)\u001b[0m \u001b[0;34m+\u001b[0m \u001b[0mint\u001b[0m\u001b[0;34m(\u001b[0m\u001b[0mobj\u001b[0m\u001b[0;34m[\u001b[0m\u001b[0;36m2\u001b[0m\u001b[0;34m]\u001b[0m\u001b[0;34m)\u001b[0m\u001b[0;34m]\u001b[0m\u001b[0;34m)\u001b[0m\u001b[0;34m\u001b[0m\u001b[0m\n\u001b[0m\u001b[1;32m     11\u001b[0m \u001b[0;34m\u001b[0m\u001b[0m\n\u001b[1;32m     12\u001b[0m \u001b[0mbyte_header\u001b[0m \u001b[0;34m=\u001b[0m \u001b[0mmin\u001b[0m\u001b[0;34m(\u001b[0m\u001b[0mposition\u001b[0m\u001b[0;34m)\u001b[0m\u001b[0;34m\u001b[0m\u001b[0m\n",
      "\u001b[0;31mIndexError\u001b[0m: list index out of range"
     ]
    }
   ],
   "source": [
    "with open('fres_1491291281361.idx', 'r') as content_file:\n",
    "    content = content_file.read()[:-1]\n",
    "arr = content.split(';')\n",
    "\n",
    "name = []\n",
    "position = []\n",
    "for x in arr:\n",
    "    obj = x.split(':')\n",
    "    name.append(obj[0])\n",
    "    position.append([int(obj[1]), int(obj[1]) + int(obj[2])])\n",
    "\n",
    "byte_header = min(position)\n",
    "byte_header = byte_header[0]\n",
    "byte_end = max(position);\n",
    "byte_end = max(byte_end[0], byte_end[1])\n",
    "\n",
    "binary = []\n",
    "for i in range(byte_end) :\n",
    "    binary.append(' ')\n",
    "\n",
    "n = len(name) \n",
    "for i in range(n):\n",
    "    cur = position[i][0]\n",
    "    g = open(name[i], \"rb\");\n",
    "    try:\n",
    "        byte = g.read(byte_header)\n",
    "        while byte != \"\":\n",
    "            # Do stuff with byte.\n",
    "            byte = g.read(1)\n",
    "            binary[cur] = byte \n",
    "            cur += 1\n",
    "    finally:\n",
    "        g.close() \n",
    "    position[i][1] = cur;\n",
    "# print(position)\n",
    "# g = open('fres_1491291281361.idx', 'w')\n",
    "# print(position)\n",
    "\n",
    "print((position[0][0]).str)\n",
    "\n",
    "# for i in range(n):\n",
    "#     g.write(name[i])\n",
    "#     g.write(\":\")\n",
    "#     g.write(str(position[i][0]))\n",
    "#     g.write(\":\")\n",
    "#     g.write(str(position[i][1]))\n",
    "#     g.write(\";\")\n",
    "# g.close()\n",
    "\n",
    "h = open(\"a.dat\", \"wb\")\n",
    "arr = ''.join(binary)\n",
    "h.write(arr)\n",
    "h.close()"
   ]
  }
 ],
 "metadata": {
  "kernelspec": {
   "display_name": "Python 2",
   "language": "python",
   "name": "python2"
  },
  "language_info": {
   "codemirror_mode": {
    "name": "ipython",
    "version": 2
   },
   "file_extension": ".py",
   "mimetype": "text/x-python",
   "name": "python",
   "nbconvert_exporter": "python",
   "pygments_lexer": "ipython2",
   "version": "2.7.13"
  }
 },
 "nbformat": 4,
 "nbformat_minor": 2
}
